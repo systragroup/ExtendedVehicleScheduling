{
 "cells": [
  {
   "cell_type": "code",
   "execution_count": 1,
   "metadata": {},
   "outputs": [],
   "source": [
    "import pandas as pd\n",
    "from pathlib import Path\n",
    "import random\n",
    "import numpy as np\n",
    "\n",
    "import VehicleSchedulingAlgorithm as vsa\n",
    "import vsa_utils"
   ]
  },
  {
   "attachments": {},
   "cell_type": "markdown",
   "metadata": {},
   "source": [
    "# Load and split data"
   ]
  },
  {
   "cell_type": "code",
   "execution_count": 3,
   "metadata": {},
   "outputs": [],
   "source": [
    "ipath = Path('../data/test_data')\n",
    "\n",
    "vehicle_type = '_shuttle'\n",
    "\n",
    "vehicle_capacity = 10\n",
    "max_waiting_duration_min = 15\n",
    "demand_duration = 60\n",
    "\n",
    "%store -r max_waiting_duration_min\n",
    "%store -r vehicle_capacity"
   ]
  },
  {
   "cell_type": "code",
   "execution_count": 4,
   "metadata": {},
   "outputs": [],
   "source": [
    "zones = pd.read_csv(ipath / f'zones{vehicle_type}.csv', sep=';')\n",
    "od = pd.read_csv(ipath / f'od_time{vehicle_type}.csv', sep=';').fillna(0).set_index(['from','to'])\n",
    "distance_matrix = pd.read_csv(ipath / f'distance_matrix{vehicle_type}.csv', sep=';').fillna(0).set_index(['from','to'])\n",
    "\n",
    "od.rename(columns={'0': 'volume'}, inplace=True)\n",
    "od.dropna(inplace=True)"
   ]
  },
  {
   "attachments": {},
   "cell_type": "markdown",
   "metadata": {},
   "source": [
    "We are splitting the demand data into its part > 1 and part < 1:\n",
    "- part < 1 is applied original algorithm without accounting for vehicle occupancy\n",
    "- part > 1 is applied adapted algorithm accounting for vehicle occupancy"
   ]
  },
  {
   "cell_type": "code",
   "execution_count": 6,
   "metadata": {},
   "outputs": [
    {
     "name": "stderr",
     "output_type": "stream",
     "text": [
      "c:\\Users\\rgoix\\Documents\\dev\\quetzal_models\\amod\\VehicleScheduling\\notebooks\\vsa_utils.py:47: SettingWithCopyWarning: \n",
      "A value is trying to be set on a copy of a slice from a DataFrame\n",
      "\n",
      "See the caveats in the documentation: https://pandas.pydata.org/pandas-docs/stable/user_guide/indexing.html#returning-a-view-versus-a-copy\n",
      "  self.volumes.dropna(inplace=True)\n"
     ]
    }
   ],
   "source": [
    "vsa_prep_full = vsa_utils.VSA_Preparation(\n",
    "    zones, od[od['volume']>=1], distance_matrix,\n",
    "    max_waiting_duration_min=max_waiting_duration_min,\n",
    "    demand_duration=demand_duration,\n",
    "    as_integers=True,\n",
    "    vehicle_demand_to_integer=True,\n",
    "    aggregate_method='logic',\n",
    "    vehicle_capacity=vehicle_capacity\n",
    ")\n",
    "\n",
    "vsa_prep_decimal = vsa_utils.VSA_Preparation(\n",
    "    zones, od[od['volume']<1], distance_matrix,\n",
    "    max_waiting_duration_min=None,\n",
    "    demand_duration=demand_duration,\n",
    "    as_integers=False,\n",
    "    vehicle_demand_to_integer=False,\n",
    "    aggregate_method=None,\n",
    "    vehicle_capacity=vehicle_capacity\n",
    ")"
   ]
  },
  {
   "cell_type": "markdown",
   "metadata": {},
   "source": [
    "# prepare"
   ]
  },
  {
   "cell_type": "code",
   "execution_count": 7,
   "metadata": {},
   "outputs": [],
   "source": [
    "vsa_prep_full.discretize_aggregate()\n",
    "distance_matrix_full, demand_matrix_full = vsa_prep_full.compute_vsa_inputs()"
   ]
  },
  {
   "cell_type": "code",
   "execution_count": 8,
   "metadata": {},
   "outputs": [],
   "source": [
    "vsa_prep_decimal.discretize_aggregate()\n",
    "distance_matrix_decimal, demand_matrix_decimal = vsa_prep_decimal.compute_vsa_inputs()"
   ]
  },
  {
   "cell_type": "markdown",
   "metadata": {},
   "source": [
    "# run"
   ]
  },
  {
   "cell_type": "code",
   "execution_count": 9,
   "metadata": {},
   "outputs": [
    {
     "data": {
      "text/plain": [
       "528.0"
      ]
     },
     "execution_count": 9,
     "metadata": {},
     "output_type": "execute_result"
    }
   ],
   "source": [
    "scheduling_full = vsa.VSA(distance_matrix_full, demand_matrix_full, max_relocation_distance=None)\n",
    "scheduling_full.solve()\n",
    "scheduling_full.required_vehicles"
   ]
  },
  {
   "cell_type": "code",
   "execution_count": 10,
   "metadata": {},
   "outputs": [
    {
     "data": {
      "text/plain": [
       "52.627027940000005"
      ]
     },
     "execution_count": 10,
     "metadata": {},
     "output_type": "execute_result"
    }
   ],
   "source": [
    "scheduling_decimal = vsa.VSA(distance_matrix_decimal, demand_matrix_decimal, max_relocation_distance=None)\n",
    "scheduling_decimal.solve()\n",
    "scheduling_decimal.required_vehicles"
   ]
  },
  {
   "cell_type": "code",
   "execution_count": 11,
   "metadata": {},
   "outputs": [
    {
     "name": "stdout",
     "output_type": "stream",
     "text": [
      "Stored 'n_vehs' (tuple)\n"
     ]
    }
   ],
   "source": [
    "n_vehs = (scheduling_decimal.required_vehicles, scheduling_full.required_vehicles)\n",
    "%store n_vehs"
   ]
  },
  {
   "cell_type": "code",
   "execution_count": null,
   "metadata": {},
   "outputs": [],
   "source": [
    "\n"
   ]
  }
 ],
 "metadata": {
  "kernelspec": {
   "display_name": "base",
   "language": "python",
   "name": "python3"
  },
  "language_info": {
   "codemirror_mode": {
    "name": "ipython",
    "version": 3
   },
   "file_extension": ".py",
   "mimetype": "text/x-python",
   "name": "python",
   "nbconvert_exporter": "python",
   "pygments_lexer": "ipython3",
   "version": "3.8.13"
  },
  "orig_nbformat": 4
 },
 "nbformat": 4,
 "nbformat_minor": 2
}
