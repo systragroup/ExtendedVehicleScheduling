{
 "cells": [
  {
   "cell_type": "code",
   "execution_count": 1,
   "metadata": {},
   "outputs": [],
   "source": [
    "import snakeviz\n",
    "%load_ext snakeviz\n",
    "import pandas as pd\n",
    "import numpy as np"
   ]
  },
  {
   "cell_type": "code",
   "execution_count": 2,
   "metadata": {},
   "outputs": [],
   "source": [
    "# %%snakeviz -t\n",
    "# trip_step = 2\n",
    "# demand_step = 5\n",
    "# %store trip_stepdd\n",
    "# %store demand_step\n",
    "# %run test_algo_robin.ipynb"
   ]
  },
  {
   "cell_type": "code",
   "execution_count": 3,
   "metadata": {},
   "outputs": [],
   "source": [
    "df = pd.DataFrame(columns=['max_waiting_duration_min', 'vehicle_capacity', 'vehicle_full', 'vehicle_decimal', 'vehicles'])"
   ]
  },
  {
   "cell_type": "code",
   "execution_count": 4,
   "metadata": {},
   "outputs": [
    {
     "name": "stdout",
     "output_type": "stream",
     "text": [
      "0 5\n",
      "Stored 'max_waiting_duration_min' (int)\n",
      "Stored 'vehicle_capacity' (int)\n"
     ]
    },
    {
     "name": "stderr",
     "output_type": "stream",
     "text": [
      "C:\\Users\\rgoix\\Documents\\dev\\quetzal_models\\amod\\VehicleScheduling\\notebooks\\vsa_utils.py:47: SettingWithCopyWarning: \n",
      "A value is trying to be set on a copy of a slice from a DataFrame\n",
      "\n",
      "See the caveats in the documentation: https://pandas.pydata.org/pandas-docs/stable/user_guide/indexing.html#returning-a-view-versus-a-copy\n",
      "  self.volumes.dropna(inplace=True)\n"
     ]
    },
    {
     "name": "stdout",
     "output_type": "stream",
     "text": [
      "Stored 'n_vehs' (tuple)\n",
      "(105.25405588000001, 626.0)\n",
      "0 8\n",
      "Stored 'max_waiting_duration_min' (int)\n",
      "Stored 'vehicle_capacity' (int)\n"
     ]
    },
    {
     "name": "stderr",
     "output_type": "stream",
     "text": [
      "C:\\Users\\rgoix\\Documents\\dev\\quetzal_models\\amod\\VehicleScheduling\\notebooks\\vsa_utils.py:47: SettingWithCopyWarning: \n",
      "A value is trying to be set on a copy of a slice from a DataFrame\n",
      "\n",
      "See the caveats in the documentation: https://pandas.pydata.org/pandas-docs/stable/user_guide/indexing.html#returning-a-view-versus-a-copy\n",
      "  self.volumes.dropna(inplace=True)\n"
     ]
    },
    {
     "name": "stdout",
     "output_type": "stream",
     "text": [
      "Stored 'n_vehs' (tuple)\n",
      "(65.783784925, 626.0)\n",
      "0 10\n",
      "Stored 'max_waiting_duration_min' (int)\n",
      "Stored 'vehicle_capacity' (int)\n"
     ]
    },
    {
     "name": "stderr",
     "output_type": "stream",
     "text": [
      "C:\\Users\\rgoix\\Documents\\dev\\quetzal_models\\amod\\VehicleScheduling\\notebooks\\vsa_utils.py:47: SettingWithCopyWarning: \n",
      "A value is trying to be set on a copy of a slice from a DataFrame\n",
      "\n",
      "See the caveats in the documentation: https://pandas.pydata.org/pandas-docs/stable/user_guide/indexing.html#returning-a-view-versus-a-copy\n",
      "  self.volumes.dropna(inplace=True)\n"
     ]
    },
    {
     "name": "stdout",
     "output_type": "stream",
     "text": [
      "Stored 'n_vehs' (tuple)\n",
      "(52.627027940000005, 626.0)\n",
      "0 12\n",
      "Stored 'max_waiting_duration_min' (int)\n",
      "Stored 'vehicle_capacity' (int)\n"
     ]
    },
    {
     "name": "stderr",
     "output_type": "stream",
     "text": [
      "C:\\Users\\rgoix\\Documents\\dev\\quetzal_models\\amod\\VehicleScheduling\\notebooks\\vsa_utils.py:47: SettingWithCopyWarning: \n",
      "A value is trying to be set on a copy of a slice from a DataFrame\n",
      "\n",
      "See the caveats in the documentation: https://pandas.pydata.org/pandas-docs/stable/user_guide/indexing.html#returning-a-view-versus-a-copy\n",
      "  self.volumes.dropna(inplace=True)\n"
     ]
    },
    {
     "name": "stdout",
     "output_type": "stream",
     "text": [
      "Stored 'n_vehs' (tuple)\n",
      "(43.85585661666667, 626.0)\n",
      "5 5\n",
      "Stored 'max_waiting_duration_min' (int)\n",
      "Stored 'vehicle_capacity' (int)\n"
     ]
    },
    {
     "name": "stderr",
     "output_type": "stream",
     "text": [
      "C:\\Users\\rgoix\\Documents\\dev\\quetzal_models\\amod\\VehicleScheduling\\notebooks\\vsa_utils.py:47: SettingWithCopyWarning: \n",
      "A value is trying to be set on a copy of a slice from a DataFrame\n",
      "\n",
      "See the caveats in the documentation: https://pandas.pydata.org/pandas-docs/stable/user_guide/indexing.html#returning-a-view-versus-a-copy\n",
      "  self.volumes.dropna(inplace=True)\n"
     ]
    },
    {
     "name": "stdout",
     "output_type": "stream",
     "text": [
      "Stored 'n_vehs' (tuple)\n",
      "(105.25405588000001, 536.0)\n",
      "5 8\n",
      "Stored 'max_waiting_duration_min' (int)\n",
      "Stored 'vehicle_capacity' (int)\n"
     ]
    },
    {
     "name": "stderr",
     "output_type": "stream",
     "text": [
      "C:\\Users\\rgoix\\Documents\\dev\\quetzal_models\\amod\\VehicleScheduling\\notebooks\\vsa_utils.py:47: SettingWithCopyWarning: \n",
      "A value is trying to be set on a copy of a slice from a DataFrame\n",
      "\n",
      "See the caveats in the documentation: https://pandas.pydata.org/pandas-docs/stable/user_guide/indexing.html#returning-a-view-versus-a-copy\n",
      "  self.volumes.dropna(inplace=True)\n"
     ]
    },
    {
     "name": "stdout",
     "output_type": "stream",
     "text": [
      "Stored 'n_vehs' (tuple)\n",
      "(65.783784925, 535.0)\n",
      "5 10\n",
      "Stored 'max_waiting_duration_min' (int)\n",
      "Stored 'vehicle_capacity' (int)\n"
     ]
    },
    {
     "name": "stderr",
     "output_type": "stream",
     "text": [
      "C:\\Users\\rgoix\\Documents\\dev\\quetzal_models\\amod\\VehicleScheduling\\notebooks\\vsa_utils.py:47: SettingWithCopyWarning: \n",
      "A value is trying to be set on a copy of a slice from a DataFrame\n",
      "\n",
      "See the caveats in the documentation: https://pandas.pydata.org/pandas-docs/stable/user_guide/indexing.html#returning-a-view-versus-a-copy\n",
      "  self.volumes.dropna(inplace=True)\n"
     ]
    },
    {
     "name": "stdout",
     "output_type": "stream",
     "text": [
      "Stored 'n_vehs' (tuple)\n",
      "(52.627027940000005, 535.0)\n",
      "5 12\n",
      "Stored 'max_waiting_duration_min' (int)\n",
      "Stored 'vehicle_capacity' (int)\n"
     ]
    },
    {
     "name": "stderr",
     "output_type": "stream",
     "text": [
      "C:\\Users\\rgoix\\Documents\\dev\\quetzal_models\\amod\\VehicleScheduling\\notebooks\\vsa_utils.py:47: SettingWithCopyWarning: \n",
      "A value is trying to be set on a copy of a slice from a DataFrame\n",
      "\n",
      "See the caveats in the documentation: https://pandas.pydata.org/pandas-docs/stable/user_guide/indexing.html#returning-a-view-versus-a-copy\n",
      "  self.volumes.dropna(inplace=True)\n"
     ]
    },
    {
     "name": "stdout",
     "output_type": "stream",
     "text": [
      "Stored 'n_vehs' (tuple)\n",
      "(43.85585661666667, 535.0)\n",
      "10 5\n",
      "Stored 'max_waiting_duration_min' (int)\n",
      "Stored 'vehicle_capacity' (int)\n"
     ]
    },
    {
     "name": "stderr",
     "output_type": "stream",
     "text": [
      "C:\\Users\\rgoix\\Documents\\dev\\quetzal_models\\amod\\VehicleScheduling\\notebooks\\vsa_utils.py:47: SettingWithCopyWarning: \n",
      "A value is trying to be set on a copy of a slice from a DataFrame\n",
      "\n",
      "See the caveats in the documentation: https://pandas.pydata.org/pandas-docs/stable/user_guide/indexing.html#returning-a-view-versus-a-copy\n",
      "  self.volumes.dropna(inplace=True)\n"
     ]
    },
    {
     "name": "stdout",
     "output_type": "stream",
     "text": [
      "Stored 'n_vehs' (tuple)\n",
      "(105.25405588000001, 468.0)\n",
      "10 8\n",
      "Stored 'max_waiting_duration_min' (int)\n",
      "Stored 'vehicle_capacity' (int)\n"
     ]
    },
    {
     "name": "stderr",
     "output_type": "stream",
     "text": [
      "C:\\Users\\rgoix\\Documents\\dev\\quetzal_models\\amod\\VehicleScheduling\\notebooks\\vsa_utils.py:47: SettingWithCopyWarning: \n",
      "A value is trying to be set on a copy of a slice from a DataFrame\n",
      "\n",
      "See the caveats in the documentation: https://pandas.pydata.org/pandas-docs/stable/user_guide/indexing.html#returning-a-view-versus-a-copy\n",
      "  self.volumes.dropna(inplace=True)\n"
     ]
    },
    {
     "name": "stdout",
     "output_type": "stream",
     "text": [
      "Stored 'n_vehs' (tuple)\n",
      "(65.783784925, 464.0)\n",
      "10 10\n",
      "Stored 'max_waiting_duration_min' (int)\n",
      "Stored 'vehicle_capacity' (int)\n"
     ]
    },
    {
     "name": "stderr",
     "output_type": "stream",
     "text": [
      "C:\\Users\\rgoix\\Documents\\dev\\quetzal_models\\amod\\VehicleScheduling\\notebooks\\vsa_utils.py:47: SettingWithCopyWarning: \n",
      "A value is trying to be set on a copy of a slice from a DataFrame\n",
      "\n",
      "See the caveats in the documentation: https://pandas.pydata.org/pandas-docs/stable/user_guide/indexing.html#returning-a-view-versus-a-copy\n",
      "  self.volumes.dropna(inplace=True)\n"
     ]
    },
    {
     "name": "stdout",
     "output_type": "stream",
     "text": [
      "Stored 'n_vehs' (tuple)\n",
      "(52.627027940000005, 466.0)\n",
      "10 12\n",
      "Stored 'max_waiting_duration_min' (int)\n",
      "Stored 'vehicle_capacity' (int)\n"
     ]
    },
    {
     "name": "stderr",
     "output_type": "stream",
     "text": [
      "C:\\Users\\rgoix\\Documents\\dev\\quetzal_models\\amod\\VehicleScheduling\\notebooks\\vsa_utils.py:47: SettingWithCopyWarning: \n",
      "A value is trying to be set on a copy of a slice from a DataFrame\n",
      "\n",
      "See the caveats in the documentation: https://pandas.pydata.org/pandas-docs/stable/user_guide/indexing.html#returning-a-view-versus-a-copy\n",
      "  self.volumes.dropna(inplace=True)\n"
     ]
    },
    {
     "name": "stdout",
     "output_type": "stream",
     "text": [
      "Stored 'n_vehs' (tuple)\n",
      "(43.85585661666667, 468.0)\n",
      "15 5\n",
      "Stored 'max_waiting_duration_min' (int)\n",
      "Stored 'vehicle_capacity' (int)\n"
     ]
    },
    {
     "name": "stderr",
     "output_type": "stream",
     "text": [
      "C:\\Users\\rgoix\\Documents\\dev\\quetzal_models\\amod\\VehicleScheduling\\notebooks\\vsa_utils.py:47: SettingWithCopyWarning: \n",
      "A value is trying to be set on a copy of a slice from a DataFrame\n",
      "\n",
      "See the caveats in the documentation: https://pandas.pydata.org/pandas-docs/stable/user_guide/indexing.html#returning-a-view-versus-a-copy\n",
      "  self.volumes.dropna(inplace=True)\n"
     ]
    },
    {
     "name": "stdout",
     "output_type": "stream",
     "text": [
      "Stored 'n_vehs' (tuple)\n",
      "(105.25405588000001, 529.0)\n",
      "15 8\n",
      "Stored 'max_waiting_duration_min' (int)\n",
      "Stored 'vehicle_capacity' (int)\n"
     ]
    },
    {
     "name": "stderr",
     "output_type": "stream",
     "text": [
      "C:\\Users\\rgoix\\Documents\\dev\\quetzal_models\\amod\\VehicleScheduling\\notebooks\\vsa_utils.py:47: SettingWithCopyWarning: \n",
      "A value is trying to be set on a copy of a slice from a DataFrame\n",
      "\n",
      "See the caveats in the documentation: https://pandas.pydata.org/pandas-docs/stable/user_guide/indexing.html#returning-a-view-versus-a-copy\n",
      "  self.volumes.dropna(inplace=True)\n"
     ]
    },
    {
     "name": "stdout",
     "output_type": "stream",
     "text": [
      "Stored 'n_vehs' (tuple)\n",
      "(65.783784925, 528.0)\n",
      "15 10\n",
      "Stored 'max_waiting_duration_min' (int)\n",
      "Stored 'vehicle_capacity' (int)\n"
     ]
    },
    {
     "name": "stderr",
     "output_type": "stream",
     "text": [
      "C:\\Users\\rgoix\\Documents\\dev\\quetzal_models\\amod\\VehicleScheduling\\notebooks\\vsa_utils.py:47: SettingWithCopyWarning: \n",
      "A value is trying to be set on a copy of a slice from a DataFrame\n",
      "\n",
      "See the caveats in the documentation: https://pandas.pydata.org/pandas-docs/stable/user_guide/indexing.html#returning-a-view-versus-a-copy\n",
      "  self.volumes.dropna(inplace=True)\n"
     ]
    },
    {
     "name": "stdout",
     "output_type": "stream",
     "text": [
      "Stored 'n_vehs' (tuple)\n",
      "(52.627027940000005, 528.0)\n",
      "15 12\n",
      "Stored 'max_waiting_duration_min' (int)\n",
      "Stored 'vehicle_capacity' (int)\n"
     ]
    },
    {
     "name": "stderr",
     "output_type": "stream",
     "text": [
      "C:\\Users\\rgoix\\Documents\\dev\\quetzal_models\\amod\\VehicleScheduling\\notebooks\\vsa_utils.py:47: SettingWithCopyWarning: \n",
      "A value is trying to be set on a copy of a slice from a DataFrame\n",
      "\n",
      "See the caveats in the documentation: https://pandas.pydata.org/pandas-docs/stable/user_guide/indexing.html#returning-a-view-versus-a-copy\n",
      "  self.volumes.dropna(inplace=True)\n"
     ]
    },
    {
     "name": "stdout",
     "output_type": "stream",
     "text": [
      "Stored 'n_vehs' (tuple)\n",
      "(43.85585661666667, 527.0)\n",
      "20 5\n",
      "Stored 'max_waiting_duration_min' (int)\n",
      "Stored 'vehicle_capacity' (int)\n"
     ]
    },
    {
     "name": "stderr",
     "output_type": "stream",
     "text": [
      "C:\\Users\\rgoix\\Documents\\dev\\quetzal_models\\amod\\VehicleScheduling\\notebooks\\vsa_utils.py:47: SettingWithCopyWarning: \n",
      "A value is trying to be set on a copy of a slice from a DataFrame\n",
      "\n",
      "See the caveats in the documentation: https://pandas.pydata.org/pandas-docs/stable/user_guide/indexing.html#returning-a-view-versus-a-copy\n",
      "  self.volumes.dropna(inplace=True)\n"
     ]
    },
    {
     "name": "stdout",
     "output_type": "stream",
     "text": [
      "Stored 'n_vehs' (tuple)\n",
      "(105.25405588000001, 580.0)\n",
      "20 8\n",
      "Stored 'max_waiting_duration_min' (int)\n",
      "Stored 'vehicle_capacity' (int)\n"
     ]
    },
    {
     "name": "stderr",
     "output_type": "stream",
     "text": [
      "C:\\Users\\rgoix\\Documents\\dev\\quetzal_models\\amod\\VehicleScheduling\\notebooks\\vsa_utils.py:47: SettingWithCopyWarning: \n",
      "A value is trying to be set on a copy of a slice from a DataFrame\n",
      "\n",
      "See the caveats in the documentation: https://pandas.pydata.org/pandas-docs/stable/user_guide/indexing.html#returning-a-view-versus-a-copy\n",
      "  self.volumes.dropna(inplace=True)\n"
     ]
    },
    {
     "name": "stdout",
     "output_type": "stream",
     "text": [
      "Stored 'n_vehs' (tuple)\n",
      "(65.783784925, 580.0)\n",
      "20 10\n",
      "Stored 'max_waiting_duration_min' (int)\n",
      "Stored 'vehicle_capacity' (int)\n"
     ]
    },
    {
     "name": "stderr",
     "output_type": "stream",
     "text": [
      "C:\\Users\\rgoix\\Documents\\dev\\quetzal_models\\amod\\VehicleScheduling\\notebooks\\vsa_utils.py:47: SettingWithCopyWarning: \n",
      "A value is trying to be set on a copy of a slice from a DataFrame\n",
      "\n",
      "See the caveats in the documentation: https://pandas.pydata.org/pandas-docs/stable/user_guide/indexing.html#returning-a-view-versus-a-copy\n",
      "  self.volumes.dropna(inplace=True)\n"
     ]
    },
    {
     "name": "stdout",
     "output_type": "stream",
     "text": [
      "Stored 'n_vehs' (tuple)\n",
      "(52.627027940000005, 577.0)\n",
      "20 12\n",
      "Stored 'max_waiting_duration_min' (int)\n",
      "Stored 'vehicle_capacity' (int)\n"
     ]
    },
    {
     "name": "stderr",
     "output_type": "stream",
     "text": [
      "C:\\Users\\rgoix\\Documents\\dev\\quetzal_models\\amod\\VehicleScheduling\\notebooks\\vsa_utils.py:47: SettingWithCopyWarning: \n",
      "A value is trying to be set on a copy of a slice from a DataFrame\n",
      "\n",
      "See the caveats in the documentation: https://pandas.pydata.org/pandas-docs/stable/user_guide/indexing.html#returning-a-view-versus-a-copy\n",
      "  self.volumes.dropna(inplace=True)\n"
     ]
    },
    {
     "name": "stdout",
     "output_type": "stream",
     "text": [
      "Stored 'n_vehs' (tuple)\n",
      "(43.85585661666667, 576.0)\n"
     ]
    }
   ],
   "source": [
    "for max_waiting_duration_min in [0, 5, 10, 15, 20]:\n",
    "    for vehicle_capacity in [5, 8, 10, 12]:\n",
    "        print(max_waiting_duration_min, vehicle_capacity)\n",
    "        %store max_waiting_duration_min\n",
    "        %store vehicle_capacity\n",
    "        %run A01_full_algo.ipynb\n",
    "        %store -r n_vehs\n",
    "        # store results in df\n",
    "        print(n_vehs)\n",
    "        new = pd.DataFrame(\n",
    "            [[max_waiting_duration_min, vehicle_capacity, n_vehs[1], n_vehs[0], n_vehs[1] + n_vehs[0]]],\n",
    "            columns=['max_waiting_duration_min', 'vehicle_capacity', 'vehicle_full', 'vehicle_decimal', 'vehicles']\n",
    "        )\n",
    "        df = pd.concat([df, new])\n"
   ]
  },
  {
   "cell_type": "code",
   "execution_count": 5,
   "metadata": {},
   "outputs": [
    {
     "data": {
      "text/html": [
       "<div>\n",
       "<style scoped>\n",
       "    .dataframe tbody tr th:only-of-type {\n",
       "        vertical-align: middle;\n",
       "    }\n",
       "\n",
       "    .dataframe tbody tr th {\n",
       "        vertical-align: top;\n",
       "    }\n",
       "\n",
       "    .dataframe thead th {\n",
       "        text-align: right;\n",
       "    }\n",
       "</style>\n",
       "<table border=\"1\" class=\"dataframe\">\n",
       "  <thead>\n",
       "    <tr style=\"text-align: right;\">\n",
       "      <th>vehicle_capacity</th>\n",
       "      <th>5</th>\n",
       "      <th>8</th>\n",
       "      <th>10</th>\n",
       "      <th>12</th>\n",
       "    </tr>\n",
       "    <tr>\n",
       "      <th>max_waiting_duration_min</th>\n",
       "      <th></th>\n",
       "      <th></th>\n",
       "      <th></th>\n",
       "      <th></th>\n",
       "    </tr>\n",
       "  </thead>\n",
       "  <tbody>\n",
       "    <tr>\n",
       "      <th>0</th>\n",
       "      <td>731.254056</td>\n",
       "      <td>691.783785</td>\n",
       "      <td>678.627028</td>\n",
       "      <td>669.855857</td>\n",
       "    </tr>\n",
       "    <tr>\n",
       "      <th>5</th>\n",
       "      <td>641.254056</td>\n",
       "      <td>600.783785</td>\n",
       "      <td>587.627028</td>\n",
       "      <td>578.855857</td>\n",
       "    </tr>\n",
       "    <tr>\n",
       "      <th>10</th>\n",
       "      <td>573.254056</td>\n",
       "      <td>529.783785</td>\n",
       "      <td>518.627028</td>\n",
       "      <td>511.855857</td>\n",
       "    </tr>\n",
       "    <tr>\n",
       "      <th>15</th>\n",
       "      <td>634.254056</td>\n",
       "      <td>593.783785</td>\n",
       "      <td>580.627028</td>\n",
       "      <td>570.855857</td>\n",
       "    </tr>\n",
       "    <tr>\n",
       "      <th>20</th>\n",
       "      <td>685.254056</td>\n",
       "      <td>645.783785</td>\n",
       "      <td>629.627028</td>\n",
       "      <td>619.855857</td>\n",
       "    </tr>\n",
       "  </tbody>\n",
       "</table>\n",
       "</div>"
      ],
      "text/plain": [
       "vehicle_capacity                  5           8           10          12\n",
       "max_waiting_duration_min                                                \n",
       "0                         731.254056  691.783785  678.627028  669.855857\n",
       "5                         641.254056  600.783785  587.627028  578.855857\n",
       "10                        573.254056  529.783785  518.627028  511.855857\n",
       "15                        634.254056  593.783785  580.627028  570.855857\n",
       "20                        685.254056  645.783785  629.627028  619.855857"
      ]
     },
     "execution_count": 5,
     "metadata": {},
     "output_type": "execute_result"
    }
   ],
   "source": [
    "df.set_index(['max_waiting_duration_min', 'vehicle_capacity'])['vehicles'].unstack()"
   ]
  },
  {
   "cell_type": "code",
   "execution_count": 6,
   "metadata": {},
   "outputs": [],
   "source": [
    "import matplotlib.pyplot as plt\n",
    "import altair as alt"
   ]
  },
  {
   "cell_type": "code",
   "execution_count": 7,
   "metadata": {},
   "outputs": [
    {
     "data": {
      "image/png": "[encoded data removed]",
      "text/plain": [
       "<Figure size 640x480 with 1 Axes>"
      ]
     },
     "metadata": {},
     "output_type": "display_data"
    }
   ],
   "source": [
    "fig = plt.figure()\n",
    "ax = fig.add_subplot(111, projection='3d')\n",
    "ax.scatter(df['max_waiting_duration_min'], df['vehicle_capacity'], df['vehicles'])\n",
    "ax.set_xlabel('max_waiting_duration_min')\n",
    "ax.set_ylabel('vehicle_capacity')\n",
    "ax.set_zlabel('vehicles')\n",
    "plt.show()\n",
    "# df"
   ]
  },
  {
   "cell_type": "code",
   "execution_count": 8,
   "metadata": {},
   "outputs": [
    {
     "data": {
      "text/html": [
       "\n",
       "<style>\n",
       "  #altair-viz-532a3c24737045cabdba6077168ccaa8.vega-embed {\n",
       "    width: 100%;\n",
       "    display: flex;\n",
       "  }\n",
       "\n",
       "  #altair-viz-532a3c24737045cabdba6077168ccaa8.vega-embed details,\n",
       "  #altair-viz-532a3c24737045cabdba6077168ccaa8.vega-embed details summary {\n",
       "    position: relative;\n",
       "  }\n",
       "</style>\n",
       "<div id=\"altair-viz-532a3c24737045cabdba6077168ccaa8\"></div>\n",
       "<script type=\"text/javascript\">\n",
       "  var VEGA_DEBUG = (typeof VEGA_DEBUG == \"undefined\") ? {} : VEGA_DEBUG;\n",
       "  (function(spec, embedOpt){\n",
       "    let outputDiv = document.currentScript.previousElementSibling;\n",
       "    if (outputDiv.id !== \"altair-viz-532a3c24737045cabdba6077168ccaa8\") {\n",
       "      outputDiv = document.getElementById(\"altair-viz-532a3c24737045cabdba6077168ccaa8\");\n",
       "    }\n",
       "    const paths = {\n",
       "      \"vega\": \"https://cdn.jsdelivr.net/npm/vega@5?noext\",\n",
       "      \"vega-lib\": \"https://cdn.jsdelivr.net/npm/vega-lib?noext\",\n",
       "      \"vega-lite\": \"https://cdn.jsdelivr.net/npm/vega-lite@5.8.0?noext\",\n",
       "      \"vega-embed\": \"https://cdn.jsdelivr.net/npm/vega-embed@6?noext\",\n",
       "    };\n",
       "\n",
       "    function maybeLoadScript(lib, version) {\n",
       "      var key = `${lib.replace(\"-\", \"\")}_version`;\n",
       "      return (VEGA_DEBUG[key] == version) ?\n",
       "        Promise.resolve(paths[lib]) :\n",
       "        new Promise(function(resolve, reject) {\n",
       "          var s = document.createElement('script');\n",
       "          document.getElementsByTagName(\"head\")[0].appendChild(s);\n",
       "          s.async = true;\n",
       "          s.onload = () => {\n",
       "            VEGA_DEBUG[key] = version;\n",
       "            return resolve(paths[lib]);\n",
       "          };\n",
       "          s.onerror = () => reject(`Error loading script: ${paths[lib]}`);\n",
       "          s.src = paths[lib];\n",
       "        });\n",
       "    }\n",
       "\n",
       "    function showError(err) {\n",
       "      outputDiv.innerHTML = `<div class=\"error\" style=\"color:red;\">${err}</div>`;\n",
       "      throw err;\n",
       "    }\n",
       "\n",
       "    function displayChart(vegaEmbed) {\n",
       "      vegaEmbed(outputDiv, spec, embedOpt)\n",
       "        .catch(err => showError(`Javascript Error: ${err.message}<br>This usually means there's a typo in your chart specification. See the javascript console for the full traceback.`));\n",
       "    }\n",
       "\n",
       "    if(typeof define === \"function\" && define.amd) {\n",
       "      requirejs.config({paths});\n",
       "      require([\"vega-embed\"], displayChart, err => showError(`Error loading script: ${err.message}`));\n",
       "    } else {\n",
       "      maybeLoadScript(\"vega\", \"5\")\n",
       "        .then(() => maybeLoadScript(\"vega-lite\", \"5.8.0\"))\n",
       "        .then(() => maybeLoadScript(\"vega-embed\", \"6\"))\n",
       "        .catch(showError)\n",
       "        .then(() => displayChart(vegaEmbed));\n",
       "    }\n",
       "  })({\"config\": {\"view\": {\"continuousWidth\": 300, \"continuousHeight\": 300}}, \"data\": {\"name\": \"data-8af7e41e873e113a19f1ada109ecbd77\"}, \"mark\": {\"type\": \"point\"}, \"encoding\": {\"color\": {\"field\": \"vehicles\", \"type\": \"quantitative\"}, \"tooltip\": [{\"field\": \"max_waiting_duration_min\", \"type\": \"quantitative\"}, {\"field\": \"vehicle_capacity\", \"type\": \"quantitative\"}, {\"field\": \"vehicles\", \"type\": \"quantitative\"}], \"x\": {\"field\": \"max_waiting_duration_min\", \"type\": \"quantitative\"}, \"y\": {\"field\": \"vehicle_capacity\", \"type\": \"quantitative\"}}, \"params\": [{\"name\": \"param_1\", \"select\": {\"type\": \"interval\", \"encodings\": [\"x\", \"y\"]}, \"bind\": \"scales\"}], \"$schema\": \"https://vega.github.io/schema/vega-lite/v5.8.0.json\", \"datasets\": {\"data-8af7e41e873e113a19f1ada109ecbd77\": [{\"max_waiting_duration_min\": 0, \"vehicle_capacity\": 5, \"vehicle_full\": 626.0, \"vehicle_decimal\": 105.25405588000001, \"vehicles\": 731.25405588}, {\"max_waiting_duration_min\": 0, \"vehicle_capacity\": 8, \"vehicle_full\": 626.0, \"vehicle_decimal\": 65.783784925, \"vehicles\": 691.783784925}, {\"max_waiting_duration_min\": 0, \"vehicle_capacity\": 10, \"vehicle_full\": 626.0, \"vehicle_decimal\": 52.627027940000005, \"vehicles\": 678.6270279400001}, {\"max_waiting_duration_min\": 0, \"vehicle_capacity\": 12, \"vehicle_full\": 626.0, \"vehicle_decimal\": 43.85585661666667, \"vehicles\": 669.8558566166666}, {\"max_waiting_duration_min\": 5, \"vehicle_capacity\": 5, \"vehicle_full\": 536.0, \"vehicle_decimal\": 105.25405588000001, \"vehicles\": 641.25405588}, {\"max_waiting_duration_min\": 5, \"vehicle_capacity\": 8, \"vehicle_full\": 535.0, \"vehicle_decimal\": 65.783784925, \"vehicles\": 600.783784925}, {\"max_waiting_duration_min\": 5, \"vehicle_capacity\": 10, \"vehicle_full\": 535.0, \"vehicle_decimal\": 52.627027940000005, \"vehicles\": 587.6270279400001}, {\"max_waiting_duration_min\": 5, \"vehicle_capacity\": 12, \"vehicle_full\": 535.0, \"vehicle_decimal\": 43.85585661666667, \"vehicles\": 578.8558566166666}, {\"max_waiting_duration_min\": 10, \"vehicle_capacity\": 5, \"vehicle_full\": 468.0, \"vehicle_decimal\": 105.25405588000001, \"vehicles\": 573.25405588}, {\"max_waiting_duration_min\": 10, \"vehicle_capacity\": 8, \"vehicle_full\": 464.0, \"vehicle_decimal\": 65.783784925, \"vehicles\": 529.783784925}, {\"max_waiting_duration_min\": 10, \"vehicle_capacity\": 10, \"vehicle_full\": 466.0, \"vehicle_decimal\": 52.627027940000005, \"vehicles\": 518.6270279400001}, {\"max_waiting_duration_min\": 10, \"vehicle_capacity\": 12, \"vehicle_full\": 468.0, \"vehicle_decimal\": 43.85585661666667, \"vehicles\": 511.85585661666664}, {\"max_waiting_duration_min\": 15, \"vehicle_capacity\": 5, \"vehicle_full\": 529.0, \"vehicle_decimal\": 105.25405588000001, \"vehicles\": 634.25405588}, {\"max_waiting_duration_min\": 15, \"vehicle_capacity\": 8, \"vehicle_full\": 528.0, \"vehicle_decimal\": 65.783784925, \"vehicles\": 593.783784925}, {\"max_waiting_duration_min\": 15, \"vehicle_capacity\": 10, \"vehicle_full\": 528.0, \"vehicle_decimal\": 52.627027940000005, \"vehicles\": 580.6270279400001}, {\"max_waiting_duration_min\": 15, \"vehicle_capacity\": 12, \"vehicle_full\": 527.0, \"vehicle_decimal\": 43.85585661666667, \"vehicles\": 570.8558566166666}, {\"max_waiting_duration_min\": 20, \"vehicle_capacity\": 5, \"vehicle_full\": 580.0, \"vehicle_decimal\": 105.25405588000001, \"vehicles\": 685.25405588}, {\"max_waiting_duration_min\": 20, \"vehicle_capacity\": 8, \"vehicle_full\": 580.0, \"vehicle_decimal\": 65.783784925, \"vehicles\": 645.783784925}, {\"max_waiting_duration_min\": 20, \"vehicle_capacity\": 10, \"vehicle_full\": 577.0, \"vehicle_decimal\": 52.627027940000005, \"vehicles\": 629.6270279400001}, {\"max_waiting_duration_min\": 20, \"vehicle_capacity\": 12, \"vehicle_full\": 576.0, \"vehicle_decimal\": 43.85585661666667, \"vehicles\": 619.8558566166666}]}}, {\"mode\": \"vega-lite\"});\n",
       "</script>"
      ],
      "text/plain": [
       "alt.Chart(...)"
      ]
     },
     "execution_count": 8,
     "metadata": {},
     "output_type": "execute_result"
    }
   ],
   "source": [
    "\n",
    "alt.Chart(df).mark_point().encode(\n",
    "    x='max_waiting_duration_min',\n",
    "    y='vehicle_capacity',\n",
    "    color='vehicles',\n",
    "    tooltip=['max_waiting_duration_min', 'vehicle_capacity', 'vehicles']\n",
    ").interactive()\n",
    "\n"
   ]
  },
  {
   "cell_type": "code",
   "execution_count": 11,
   "metadata": {},
   "outputs": [],
   "source": [
    "df.to_csv('../full_algo_facteur_30.csv')"
   ]
  }
 ],
 "metadata": {
  "kernelspec": {
   "display_name": "quetzal_latest",
   "language": "python",
   "name": "python3"
  },
  "language_info": {
   "codemirror_mode": {
    "name": "ipython",
    "version": 3
   },
   "file_extension": ".py",
   "mimetype": "text/x-python",
   "name": "python",
   "nbconvert_exporter": "python",
   "pygments_lexer": "ipython3",
   "version": "3.8.13"
  },
  "orig_nbformat": 4
 },
 "nbformat": 4,
 "nbformat_minor": 2
}
